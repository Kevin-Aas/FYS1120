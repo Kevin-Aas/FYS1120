{
 "cells": [
  {
   "cell_type": "markdown",
   "metadata": {},
   "source": [
    "<h1>Exercise 2.16: En halv linje</h1>"
   ]
  },
  {
   "cell_type": "markdown",
   "metadata": {},
   "source": [
    "<h5>a)</h5>\n",
    "\n",
    "Skisse av systemet:\n",
    "\n",
    "<img src=\"exc2-16.png\" width=\"500\"/>\n",
    "\n",
    "Ladningen i $x'$ er lik $dq = \\rho_{l} dx'$.\n",
    "\n",
    "Vi vet at det elektriske potensialet i et punkt $\\vec{r}$ som kommer av en punktladning $Q$ er lik: $V(\\vec{r}) = \\dfrac{Q}{4\\pi \\epsilon_0} \\dfrac{1}{r}$\n",
    "\n",
    "Bidraget $dV$ til potensialet i punktet $\\vec{r} = (x, 0)$ som kommer av ladningen $dq$ er da:\n",
    "<br><br>\n",
    "\n",
    "$$dV = \\dfrac{dq}{4 \\pi \\epsilon_0} \\dfrac{1}{R} = \\dfrac{\\rho_{l} dx'}{4 \\pi \\epsilon_0} \\dfrac{1}{|x-x'|}$$"
   ]
  },
  {
   "cell_type": "markdown",
   "metadata": {},
   "source": [
    "<h5>b)</h5>\n",
    "\n",
    "Det totale potensialet i $\\vec{r} = (x, 0)$ som kommer av linjeladningen fra $x=-L$ til $x=0$ er da: \n",
    "<br><br>\n",
    "\n",
    "\\begin{align*}\n",
    "V(x) &=  \\int_{-L}^{0} \\dfrac{\\rho_{l} dx'}{4 \\pi \\epsilon_0} \\dfrac{1}{|x-x'|} \\,dx' \\\\[10pt]\n",
    "&= \\dfrac{\\rho_{l}}{4 \\pi \\epsilon_0} \\int_{-L}^{0} \\dfrac{1}{|x-x'|} \\,dx' \\\\[10pt]\n",
    "&= \\dfrac{\\rho_{l}}{4 \\pi \\epsilon_0} \\int_{-L}^{0} \\dfrac{1}{x-x'} \\,dx' \\qquad \\text{(siden x > 0)} \\\\[10pt]\n",
    "&= \\dfrac{\\rho_{l}}{4 \\pi \\epsilon_0} \\int_{-L}^{0} \\dfrac{1}{-x'+x} \\,dx' \\\\[10pt]\n",
    "&= \\dfrac{\\rho_{l}}{4 \\pi \\epsilon_0} \\left[-\\ln(-x'+x)\\right]_{-L}^0 \\\\[10pt]\n",
    "&= \\dfrac{\\rho_{l}}{4 \\pi \\epsilon_0} (-\\ln(x) + \\ln(L+x)) \\\\[10pt]\n",
    "&= \\dfrac{\\rho_{l}}{4 \\pi \\epsilon_0} \\ln(\\dfrac{L+x}{x})\n",
    "\\end{align*}\n",
    "\n",
    "Plotter potensialet:"
   ]
  },
  {
   "cell_type": "code",
   "execution_count": 38,
   "metadata": {},
   "outputs": [
    {
     "name": "stderr",
     "output_type": "stream",
     "text": [
      "d:\\kevin\\Anaconda3\\lib\\site-packages\\ipykernel_launcher.py:6: RuntimeWarning: invalid value encountered in log\n",
      "  \n"
     ]
    },
    {
     "data": {
      "image/png": "[encoded data removed]",
      "text/plain": [
       "<Figure size 432x288 with 1 Axes>"
      ]
     },
     "metadata": {
      "needs_background": "light"
     },
     "output_type": "display_data"
    }
   ],
   "source": [
    "from tkinter.ttk import Style\n",
    "import numpy as np\n",
    "import matplotlib.pyplot as plt\n",
    "L = 5\n",
    "x = np.linspace(-L*4, L*4, 1000)\n",
    "V = np.log((L+x)/x)\n",
    "plt.plot(x, V)\n",
    "plt.xlabel(\"[ x ]\")\n",
    "plt.ylabel(\"[ V(x) ]\")\n",
    "plt.axhline(0,color='lightgrey', ls='--') # x = 0\n",
    "plt.axvline(0,color='lightgrey', ls='--') # y = 0\n",
    "plt.show()"
   ]
  },
  {
   "cell_type": "markdown",
   "metadata": {},
   "source": [
    "Fra plottet ser vi at potensialet $V(x)$ går mot null når x går mot $\\pm \\infty$ og at det går mot utendelig ved x=-L og x=0. Dette virker rimelig."
   ]
  },
  {
   "cell_type": "markdown",
   "metadata": {},
   "source": [
    "<h5>c) </h5>\n",
    "\n",
    "Det elektriske feltet langs x-aksen er da deriverte av potensialet:\n",
    "<br><br>\n",
    "\n",
    "\\begin{align*}\n",
    "E_x(x, 0) &= -\\dfrac{dV}{dx} \\\\[10pt]\n",
    "&= -\\dfrac{\\rho_{l}}{4 \\pi \\epsilon_0} \\dfrac{d}{dx}(\\ln(\\dfrac{L+x}{x})) \\\\[10pt]\n",
    "&= -\\dfrac{\\rho_{l}}{4 \\pi \\epsilon_0} \\dfrac{d}{dx}(\\ln(L+x) - \\ln(x)) \\\\[10pt]\n",
    "&= -\\dfrac{\\rho_{l}}{4 \\pi \\epsilon_0} (\\dfrac{1}{L+x} - \\dfrac{1}{x}) \\\\[10pt]\n",
    "&= -\\dfrac{\\rho_{l}}{4 \\pi \\epsilon_0} \\dfrac{x -(L + x)}{x(L+x)} \\\\[10pt]\n",
    "&= \\dfrac{\\rho_{l}}{4 \\pi \\epsilon_0} \\dfrac{L}{x(L+x)} \\\\[10pt]\n",
    "\\end{align*}\n",
    "<br>\n",
    "Vi ser at når x går mot null, så blir E-feltet uendelig stort. Og når x blir større, så blir E-feltet mindre. Dette virker rimelig.\n"
   ]
  },
  {
   "cell_type": "markdown",
   "metadata": {},
   "source": [
    "<h5> d) </h5>\n",
    "\n",
    "Vi kan ikke bruke potensialet $V(x)$ til å finne $E_y(x, 0)$ ettersom $V(x)$ kun er definert langs x-aksen. <br> Hvis vi ønsker å finne $E_y(x, 0)$\n",
    "så må vi finne $V(x, y)$, som er definert langs x-aksen og y-aksen."
   ]
  }
 ],
 "metadata": {
  "kernelspec": {
   "display_name": "Python 3.7.0 ('base')",
   "language": "python",
   "name": "python3"
  },
  "language_info": {
   "codemirror_mode": {
    "name": "ipython",
    "version": 3
   },
   "file_extension": ".py",
   "mimetype": "text/x-python",
   "name": "python",
   "nbconvert_exporter": "python",
   "pygments_lexer": "ipython3",
   "version": "3.7.0"
  },
  "orig_nbformat": 4,
  "vscode": {
   "interpreter": {
    "hash": "c14a75a338acb78b521cdb2e218d55a9aae23230db900acb26882b351822904f"
   }
  }
 },
 "nbformat": 4,
 "nbformat_minor": 2
}
