{
 "cells": [
  {
   "cell_type": "markdown",
   "id": "bfee7cfe",
   "metadata": {},
   "source": [
    "# Fys1120 Lab\n",
    "\n",
    "\\<Skriv navn på gruppemedlemmer her\\> \n",
    "\n",
    "(Gruppene bestemmes under selve labøkten, så alle bør forberede sin egen notebook på forhånd. Du kan gjerne avtale å jobbe sammen med noen på forhånd, gitt at de skal ha samme labøkt. Gruppene skal bestå av 2-3 personer.)"
   ]
  },
  {
   "cell_type": "markdown",
   "id": "885d742a",
   "metadata": {},
   "source": [
    "Denne notebooken skal fylles ut som del av lab i Fys1120, og skal godkjennes av labassistenten ved slutten av labøkten. Før dere går på lab må dere forberede notebooken for å ha tid nok til å bli ferdig med selve labøvelsene. Alle oppgavene (både de som skal gjøres før og under lab) er beskrevet i full detalj i labteksten. Her i notebooken skal dere besvare de prelab oppgavene (indikert av undertitlene) der dere blir bedt om å skrive et python skript . Dette skal gjøre noen av oppgavene som dere skal utføre under selve laben mye enklere.  "
   ]
  },
  {
   "cell_type": "markdown",
   "id": "32bf27b0",
   "metadata": {},
   "source": [
    "Resten av oppgavene trenger dere ikke forberede i notebooken før lab, **men** oppgavene i labteksten som er merket med *På lab* bør dere besvare i notebooken når dere er på lab, for at alle svarene skal være samlet. De oppgavene som er merket *Før lab* bør dere også prøve å løse (for dere selv) før lab, for at dere skal kunne bruke tiden på å løse andre eventuelle utfordringer under selve labøvelsen. "
   ]
  },
  {
   "cell_type": "code",
   "execution_count": 2,
   "id": "88988492",
   "metadata": {},
   "outputs": [],
   "source": [
    "import matplotlib.pyplot as plt\n",
    "import numpy as np\n",
    "from scipy.stats import linregress"
   ]
  },
  {
   "cell_type": "markdown",
   "id": "23a41e83",
   "metadata": {},
   "source": [
    "## Oppgave 1.1.1 (før lab)\n",
    "Tar logaritmen av spenningen $U$ for å få en lineær ligning istedenfor en eksponesiell:\n",
    "<br/><br/>\n",
    "\\begin{align*}\n",
    "U     &= U_0e^{-t/\\tau} \\\\[2mm]\n",
    "\\ln U &= \\ln(U_0e^{-t/\\tau}) \\\\[2mm]\n",
    "\\ln U &= \\ln U_0 + \\ln e^{-t/\\tau} \\\\[2mm]\n",
    "\\ln U &= - \\frac{1}{\\tau}t + \\ln U_0\n",
    "\\end{align*}\n",
    "<br/>\n",
    "Nå har vi den lineære formen $y = at + b$ hvor $y = \\ln U$, $a = -1/\\tau$ og $b = \\ln U_0$. Ettersom $\\tau = RC$ så har vi $a = -1/RC$ som betyr at vi finner resistansen ved $R = -1/aC$ når stigningen $a$ og kapasitansen $C$ er kjent."
   ]
  },
  {
   "cell_type": "markdown",
   "id": "f9e19af4",
   "metadata": {},
   "source": [
    "## Oppgaver 1.1.2 (før lab) og 1.2.1 (på lab)\n",
    "\n",
    "I neste celle finner du en variabel $C$, en vektor $U$ og en vektor $t$, som forestiller \"falske\" verdier for kapasitansen, spenningene og tidene som du vil måle i forsøket. Bruk disse til å finne en tilsvarende \"falsk\" verdi av restistansen $R$, som beskrevet i labteksten. Plot også målepunktene og de tilpassede kurvene på både eksponentiell og på lineær form (plottene skal ligne på bildene). Tips: søk opp funksjonen `scipy.stats.lingress` på google!\n",
    "\n",
    "Husk å ha med aksebetegnelser og tegnforklaring! (Tips: du kan bruke Latex-syntax i matplotlib, f.eks. skriv ``plt.xlabel(\"$\\\\ln \\\\frac{U}{U_0} $\") `` for å få aksebetegnelsen på y-aksen i venstre plott).\n"
   ]
  },
  {
   "cell_type": "markdown",
   "id": "3d749a30",
   "metadata": {},
   "source": [
    "<table><tr>\n",
    "<td> <img src=\"https://www.mn.uio.no/fysikk/personer/vit/gertwk/eksempelgraf_lin_1.png\" alt=\"Målinger på lineær form\" width=\"400\"/> </td>\n",
    "<td> <img src=\"https://www.mn.uio.no/fysikk/personer/vit/gertwk/eksempelgraf_exp_1.png\" alt=\"Målinger på eksponentiell form\" width=\"400\"/> </td>\n",
    "</tr></table>"
   ]
  },
  {
   "cell_type": "markdown",
   "id": "206c9902",
   "metadata": {},
   "source": [
    "Når du er på lab er alt du trenger å gjøre her å endre $C$, $t$, og $U$ til de \"ekte verdiene\", dvs. verdiene av kapasitans, tid og spenning som du har funnet under forsøket! **Merk:** disse verdiene vil muligens se veldig forskjellig ut fra \"dummy\"-verdiene dere bruker før lab. Dummy-verdiene har gjerne også feil antall desimaler, i forhold til nøyaktigheten dere vil måle størrelsene med under lab-øvelsen. "
   ]
  },
  {
   "cell_type": "code",
   "execution_count": 54,
   "id": "b1dc5962",
   "metadata": {},
   "outputs": [],
   "source": [
    "C = 8.3 *1e-6                                #Coulomp per Volt\n",
    "U = np.array([8.8980,\n",
    "7.50,\n",
    "6.65,\n",
    "5.90,\n",
    "5.20,\n",
    "4.64,\n",
    "4.11,\n",
    "3.65,\n",
    "3.25,\n",
    "2.86,\n",
    "2.54,\n",
    "2.24,\n",
    "2.00,\n",
    "1.77,\n",
    "1.56,\n",
    "1.41,\n",
    "1.24,\n",
    "1.10,\n",
    "0.97,\n",
    "0.86, #made up\n",
    "766*10**(-3),\n",
    "682*10**(-3),\n",
    "608*10**(-3),\n",
    "541*10**(-3),\n",
    "484*10**(-3),\n",
    "426*10**(-3),\n",
    "383*10**(-3),\n",
    "339*10**(-3),\n",
    "304*10**(-3),\n",
    "268*10**(-3),\n",
    "240*10**(-3),\n",
    "214*10**(-3),\n",
    "191*10**(-3),\n",
    "170*10**(-3),\n",
    "152*10**(-3),\n",
    "135*10**(-3),\n",
    "120*10**(-3),\n",
    "109*10**(-3),\n",
    "97*10**(-3)])                       #Volt\n",
    "t = np.array([i*10 for i in range(1, len(U)+1)])      #Sekunder"
   ]
  },
  {
   "cell_type": "code",
   "execution_count": 55,
   "id": "cc6a7b21",
   "metadata": {},
   "outputs": [
    {
     "data": {
      "image/png": "[encoded data removed]",
      "text/plain": [
       "<Figure size 432x288 with 1 Axes>"
      ]
     },
     "metadata": {
      "needs_background": "light"
     },
     "output_type": "display_data"
    },
    {
     "data": {
      "image/png": "[encoded data removed]",
      "text/plain": [
       "<Figure size 432x288 with 1 Axes>"
      ]
     },
     "metadata": {
      "needs_background": "light"
     },
     "output_type": "display_data"
    }
   ],
   "source": [
    "R = 0         \n",
    "\n",
    "# Lineær regresjon\n",
    "a = linregress(t, np.log(U)).slope\n",
    "b = linregress(t, np.log(U)).intercept\n",
    "t_reg = np.linspace(min(t), max(t), 20)\n",
    "\n",
    "# Plotter logaritmen av data og lineær regresjonen av dataen\n",
    "plt.plot(t, np.log(U), \"+\", label=\"Målinger\")\n",
    "plt.plot(t_reg, a*t_reg + b, label=\"Tilpasning\")\n",
    "plt.title(\"Lineær versjon\")\n",
    "plt.xlabel(\"$t$ [s]\")\n",
    "plt.ylabel(\"$\\ln U$  [V]\")\n",
    "plt.legend()\n",
    "plt.show()\n",
    "\n",
    "# Plotter data (eksponesiell) og eksponensiell regresjonen av dataen\n",
    "plt.plot(t, U, \"+\", label=\"Målinger\")\n",
    "plt.plot(t_reg, np.exp(b)*np.exp(a*t_reg), label=\"Tilpasning\")\n",
    "plt.title(\"Eksponentiell versjon\")\n",
    "plt.xlabel(\"$t$ [s]\")\n",
    "plt.ylabel(\"$U$  [V]\")\n",
    "plt.legend()\n",
    "\n",
    "# Beregner den indre motstanden:\n",
    "R = -1/(a*C)"
   ]
  },
  {
   "cell_type": "code",
   "execution_count": 56,
   "id": "166bb059",
   "metadata": {},
   "outputs": [
    {
     "name": "stdout",
     "output_type": "stream",
     "text": [
      "10198259.277355688\n",
      "Motstand R = 10198259.28 Ohm\n"
     ]
    }
   ],
   "source": [
    "print(R)\n",
    "print(f\"Motstand R = {R:.2f} Ohm\")  # Velg et passende antall desimaler!"
   ]
  },
  {
   "cell_type": "markdown",
   "id": "cb0822f7",
   "metadata": {},
   "source": [
    "## Oppgaver 2.1.1 (før lab) og 2.2.1 (under lab)\n",
    "\n",
    "I cellen under finner du en vektor $I$ og en vektor $U$, som er dummy-verdier for strømmen gjennom og spenningen over amperemeteret som vi skal måle på laben. Bruk disse verdiene til å lage en lineær tilpasning, og til å finne en dummy-verdi for den indre motstanden i amperemeteret, $R_{\\mathrm{a}}$. Lag et plot som inneholder både verdiene av $I$ og $U$ samt den tilpassede kurven (noe liknende som figuren under).  \n",
    "\n",
    "Når du er på laben (og gjør oppg. 2.2.1) skal alt du trenger å gjøre i notebooken være å sette inn de målte verdiene for strøm og spenning i vektorene $I$ og $U$."
   ]
  },
  {
   "cell_type": "markdown",
   "id": "1077616c",
   "metadata": {},
   "source": [
    "<img src=\"https://www.mn.uio.no/fysikk/personer/vit/gertwk/eksempelgraf_2.png\" alt=\"Målinger og lineær tilpasning\" width=\"400\">\n"
   ]
  },
  {
   "cell_type": "code",
   "execution_count": 17,
   "id": "87aab260",
   "metadata": {},
   "outputs": [],
   "source": [
    "I = np.array([17.2, 12.4, 8.74, 7.30, 5.86])    # Ampere\n",
    "U2 = np.array([230, 165, 117, 97.4, 78.1])      # Volt      # Skriver U2, for å skille vektoren fra U i oppgave 1"
   ]
  },
  {
   "cell_type": "code",
   "execution_count": 18,
   "id": "aba04bb1",
   "metadata": {},
   "outputs": [
    {
     "data": {
      "image/png": "[encoded data removed]",
      "text/plain": [
       "<Figure size 432x288 with 1 Axes>"
      ]
     },
     "metadata": {
      "needs_background": "light"
     },
     "output_type": "display_data"
    }
   ],
   "source": [
    "Ra = 0\n",
    "\n",
    "a = linregress(I, U2).slope\n",
    "b = linregress(I, U2).intercept\n",
    "I_reg = np.linspace(min(I), max(I), 20)\n",
    "\n",
    "# Plotter\n",
    "plt.plot(I, U2, \"+\", label=\"Målinger\")\n",
    "plt.plot(I_reg, a*I_reg + b, label=\"Tilpasning\")\n",
    "plt.title(\"Spenningen $U$ ved forskjellige strømmer $I$\")\n",
    "plt.xlabel(\"$I$ [A]\")\n",
    "plt.ylabel(\"$U$  [V]\")\n",
    "plt.legend()\n",
    "plt.show()\n",
    "\n",
    "Ra = a"
   ]
  },
  {
   "cell_type": "code",
   "execution_count": 19,
   "id": "3aadba97",
   "metadata": {},
   "outputs": [
    {
     "name": "stdout",
     "output_type": "stream",
     "text": [
      "13.370848122817653\n",
      "Motstand Ra = 13.37 Ohm\n"
     ]
    }
   ],
   "source": [
    "print(Ra)\n",
    "print(f\"Motstand Ra = {Ra:.2f} Ohm\")  # Velg et passende antall desimaler!"
   ]
  },
  {
   "cell_type": "markdown",
   "id": "fadb1229",
   "metadata": {},
   "source": [
    "## Oppgaver 3.1.1 (før lab)\n",
    "\n",
    "Den totale spenningsforskjellen i kretsen får et positivt bidrag fra emfen $U_1 = \\varepsilon$ og et negativt bidrag fra den indre resistansen $r$ på formen $U_2 = -rI$ hvor $I$ er strømmen som går gjennom kretsen. Den totale spenningsforskjellen kan dermed skrives som:\n",
    "<br/><br/>\n",
    "\\begin{align*}\n",
    "U &= U_1 + U_2 \\\\[2mm]\n",
    "U &= \\varepsilon - rI \\\\[2mm]\n",
    "U &= -rI + \\varepsilon\n",
    "\\end{align*}\n",
    "\n",
    "Dette har formen $y = ax + b$, hvor variablene er $y = U$ og $x = I$ med stigningstall $a = -r$ og skjæringspunkt $b = \\varepsilon$. Hvis vi plotter $U$ mot $I$ vil vi dermed finne den indre resistansen som det negative stigningstallet $r = -a$ og emfen som skjæringspunktet $\\varepsilon = b$."
   ]
  },
  {
   "cell_type": "markdown",
   "id": "ccd840bc",
   "metadata": {},
   "source": [
    "## Oppgaver 3.1.2 (før lab) og 3.2.2 (under lab)\n",
    "\n",
    "I cellen under finner dere to lister med spenninger $U$ og motstander $R$, som dere kommer til å måle under forsøket. Verdiene som er der nå er \"falske\".\n",
    "\n",
    "Man kan bruke disse verdiene for å lage en liste med verdier for strømmen $I$. Når dere har strømmen kan dere bestemme indre resistans $r$ og emf $\\epsilon$ ved hjelp av en linærtilpasning, slik dere gjorde i de to tidligere oppgavene. Mer om dette står forklart i labteksten.\n",
    "\n",
    "<img src=\"https://www.mn.uio.no/fysikk/personer/vit/gertwk/eksempelgraf_3.png\" alt=\"Lineær tilpasning av spenning målt mot strøm for et peltier-element med en indre resistans\" width=\"400\"/> \n",
    "\n",
    "Ved å lage en linærtilpasning skal dere få en graf (gitt dere bruker samme dummy-verdier) som ligner den over, og bruke denne til å anslå verdier for emf, og indre motstand. "
   ]
  },
  {
   "cell_type": "code",
   "execution_count": 28,
   "id": "42ecc757",
   "metadata": {},
   "outputs": [],
   "source": [
    "U3 = np.array([142, 189, 261, 335, 472])/1000   # Volt\n",
    "R3 = np.array([1, 1.5, 2.5, 4, 10])             # Ohm"
   ]
  },
  {
   "cell_type": "code",
   "execution_count": 29,
   "id": "f0581bd9",
   "metadata": {},
   "outputs": [
    {
     "data": {
      "image/png": "[encoded data removed]",
      "text/plain": [
       "<Figure size 432x288 with 1 Axes>"
      ]
     },
     "metadata": {
      "needs_background": "light"
     },
     "output_type": "display_data"
    }
   ],
   "source": [
    "I3 = U3 / R3        # Strømmen I, som dere må finne.    \n",
    "r = 0               # Indre motstand som dere må finne.\n",
    "emf = 0             # Emf i Peltier-element som dere må finne.\n",
    "\n",
    "a = linregress(I3, U3).slope\n",
    "b = linregress(I3, U3).intercept\n",
    "I_reg = np.linspace(min(I3), max(I3), 20)\n",
    "\n",
    "# Plotter\n",
    "plt.plot(I3, U3, \"+\", label=\"Målinger\")\n",
    "plt.plot(I_reg, a*I_reg + b, label=\"Tilpasning\")\n",
    "plt.title(\"Spenningen $U$ ved forskellige strømmer $I$ gitt $R$\")\n",
    "plt.xlabel(\"$I$ [A]\")\n",
    "plt.ylabel(\"$U$  [V]\")\n",
    "plt.legend()\n",
    "plt.show()\n",
    "\n",
    "r = -a\n",
    "emf = b"
   ]
  },
  {
   "cell_type": "code",
   "execution_count": 30,
   "id": "f8283241",
   "metadata": {},
   "outputs": [
    {
     "name": "stdout",
     "output_type": "stream",
     "text": [
      "Indre resistans er r = 3.50 Ohm\n",
      "Emfen er emf = 0.63 Volt\n"
     ]
    }
   ],
   "source": [
    "# Skriv ut resultatene for Emf og indre resistans.\n",
    "# Bruk et passende antall desimaler, og riktige enheter!\n",
    "print(f\"Indre resistans er r = {r:.2f} Ohm\")\n",
    "print(f\"Emfen er emf = {emf:.2f} Volt\")"
   ]
  },
  {
   "cell_type": "markdown",
   "id": "419b5670",
   "metadata": {},
   "source": [
    "Når dere kommer på lab, vil alt dere trenger å gjøre være å sette inn målt verdi for spenning $U$ over motstanden, samt notere ned størrelsen på motstanden $R$ som ble brukt direkte inn i notebooken og produsere resultater! "
   ]
  },
  {
   "cell_type": "markdown",
   "id": "641d5c90",
   "metadata": {},
   "source": [
    "## Oppgave 4.2.1 (på lab)"
   ]
  },
  {
   "cell_type": "code",
   "execution_count": 53,
   "id": "b07cd14c",
   "metadata": {},
   "outputs": [
    {
     "name": "stdout",
     "output_type": "stream",
     "text": [
      "Kobber stav:\n",
      "0.0314 mOhm\n",
      "1.3642 mOhm\n"
     ]
    }
   ],
   "source": [
    "print(\"Kobber stav:\")\n",
    "I1 = np.array([2.00, 1.7497, 1.5002, 1.2503, 1.0008])   # A\n",
    "U1 = np.array([0.064, 0.055, 0.047, 0.039, 0.031])      # mV\n",
    "R1 = U1/I1\n",
    "#print(R1)\n",
    "print(f\"{np.mean(R1):.4f} mOhm\")\n",
    "\n",
    "I2 = np.array([2.0040, 1.7501, 1.4996, 1.2501, 1.0041])\n",
    "U2 = np.array([2.821, 2.407, 2.035, 1.683, 1.340])\n",
    "R2 = U2/I2\n",
    "#print(R2)\n",
    "print(f\"{np.mean(R2):.4f} mOhm\")"
   ]
  },
  {
   "cell_type": "code",
   "execution_count": 52,
   "id": "74eafd18",
   "metadata": {},
   "outputs": [
    {
     "name": "stdout",
     "output_type": "stream",
     "text": [
      "Aluminium stav:\n",
      "0.0456 mOhm\n",
      "11.0020 mOhm\n"
     ]
    }
   ],
   "source": [
    "print(\"Aluminium stav:\")\n",
    "I1 = np.array([2.0024, 1.7486, 1.5044, 1.2575, 1.0099])   # A\n",
    "U1 = np.array([0.0112, 0.098, 0.083, 0.070, 0.056])      # mV\n",
    "R1 = U1/I1\n",
    "#print(R1)\n",
    "print(f\"{np.mean(R1):.4f} mOhm\")\n",
    "\n",
    "I2 = np.array([2.0028, 1.7524, 1.5066, 1.2597, 1.0030])\n",
    "U2 = np.array([20.93, 18.07, 15.38, 12.70, 14.00])\n",
    "R2 = U2/I2\n",
    "#print(R2)\n",
    "print(f\"{np.mean(R2):.4f} mOhm\")\n"
   ]
  },
  {
   "cell_type": "markdown",
   "id": "c32ec822",
   "metadata": {},
   "source": [
    "Vi ser at motstanden ble mye større når vi målte med to punkter i steden for fire punkter for både aluminium og kobber staven. Motstanden i aluminumet økte mer enn det for kobberet. Grunnen til denne økningen kan komme av at overflate arealt er mye lavere ved topunkt måling sammenliknet med firepunkt."
   ]
  },
  {
   "cell_type": "markdown",
   "id": "3a327552",
   "metadata": {},
   "source": [
    "## Oppgave 5.1 (før lab)\n",
    "\n",
    "Setter inn $\\Phi = NAB\\cos(\\theta) = NAb\\cos(\\omega t)$ i derivatet $\\varepsilon = - \\frac{d\\Phi}{dt}$ og deriverer:\n",
    "<br/><br/>\n",
    "\\begin{align*}\n",
    "\\varepsilon &= -\\frac{d}{dt}(NAb\\cos(\\omega t)) \\\\[3mm]\n",
    "            &= -NAB\\frac{d}{dt}(\\omega t)\\frac{d}{dt}(\\cos((\\omega t))) \\qquad\\qquad \\text{(Kjerneregelen)}\\\\[5mm] \n",
    "            &= NAB\\omega\\sin(\\omega t) \\\\\n",
    "\\end{align*}\n",
    "<br/>\n",
    "Dette uttrykket har størst verdi ved amplitudene ($\\sin(\\omega t) = 1$), som betyr at amplituden $X$ kan skrives som:\n",
    "<br/><br/>\n",
    "\\begin{equation*}\n",
    "X = NAB\\omega\n",
    "\\end{equation*}\n",
    "\n",
    "Løser vi dette for B får vi:\n",
    "<br/><br/>\n",
    "\\begin{equation*}\n",
    "B = \\frac{X}{NA\\omega}\n",
    "\\end{equation*}"
   ]
  },
  {
   "cell_type": "markdown",
   "id": "890ee061",
   "metadata": {},
   "source": [
    "## Oppgave 5.2.1 og 5.2.2 (på lab)\n",
    "\n",
    "Tilnærmingen av sinus kurven ga oss en amplitude på $X = 4.73 \\cdot 10^{-3}$ og $\\omega = 4.11$. Med $NA = 30$ så fikk vi magnetfeltet $B = 38 \\mu$ Tesla. \n",
    "\n",
    "Vi kan benytte dette instrumentet til å finne jordas magnetfelt ved å rotere på instrumentet og se hvor vi får størst utslag."
   ]
  }
 ],
 "metadata": {
  "kernelspec": {
   "display_name": "Python 3.9.7 ('base')",
   "language": "python",
   "name": "python3"
  },
  "language_info": {
   "codemirror_mode": {
    "name": "ipython",
    "version": 3
   },
   "file_extension": ".py",
   "mimetype": "text/x-python",
   "name": "python",
   "nbconvert_exporter": "python",
   "pygments_lexer": "ipython3",
   "version": "3.9.7"
  },
  "vscode": {
   "interpreter": {
    "hash": "6defd577cd85e3649e86c46a537635b7104b081260a238509c81cac8b534171b"
   }
  }
 },
 "nbformat": 4,
 "nbformat_minor": 5
}
